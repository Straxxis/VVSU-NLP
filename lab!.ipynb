{
  "nbformat": 4,
  "nbformat_minor": 0,
  "metadata": {
    "colab": {
      "provenance": []
    },
    "kernelspec": {
      "name": "python3",
      "display_name": "Python 3"
    },
    "language_info": {
      "name": "python"
    }
  },
  "cells": [
    {
      "cell_type": "code",
      "source": [
        "from natasha import MorphVocab, Doc, Segmenter, NewsEmbedding, NewsMorphTagger"
      ],
      "metadata": {
        "id": "Gp7X2rS-W6cO"
      },
      "execution_count": 22,
      "outputs": []
    },
    {
      "cell_type": "code",
      "source": [
        "segmenter = Segmenter()\n",
        "morph_vocab = MorphVocab()\n",
        "emb = NewsEmbedding()\n",
        "morph_tagger = NewsMorphTagger(emb)\n"
      ],
      "metadata": {
        "id": "sM3h89hwapjh"
      },
      "execution_count": 24,
      "outputs": []
    },
    {
      "cell_type": "code",
      "source": [
        "\n",
        "def process_text(text, lemmatize=True, stem_length=4):\n",
        "    doc = Doc(text)\n",
        "    doc.segment(segmenter)\n",
        "    doc.tag_morph(morph_tagger)\n",
        "\n",
        "    processed_text = []\n",
        "    for token in doc.tokens:\n",
        "        token.lemmatize(morph_vocab)\n",
        "        if lemmatize:\n",
        "            processed_text.append(token.lemma if token.lemma else token.text)\n",
        "        else:\n",
        "            processed_text.append(token.lemma[:stem_length] if token.lemma else token.text)\n",
        "    return processed_text"
      ],
      "metadata": {
        "id": "BLBw_Xunau_R"
      },
      "execution_count": 23,
      "outputs": []
    },
    {
      "cell_type": "code",
      "source": [
        "# Функция для токенизации всех символов из ASCII\n",
        "def tokenize_ascii(text):\n",
        "    return list(text)\n"
      ],
      "metadata": {
        "id": "mzTGbtSfaz7Z"
      },
      "execution_count": 8,
      "outputs": []
    },
    {
      "cell_type": "code",
      "source": [
        "# Функция для векторизации всех символов из ASCII\n",
        "def vectorize_ascii(text):\n",
        "    return [ord(char) for char in text]"
      ],
      "metadata": {
        "id": "VzqzRgd7a7Vh"
      },
      "execution_count": 9,
      "outputs": []
    },
    {
      "cell_type": "code",
      "source": [
        "# Пример текста\n",
        "text = \"гулять потом пить пиво на парах\""
      ],
      "metadata": {
        "id": "Huvn0aSOa9rh"
      },
      "execution_count": 28,
      "outputs": []
    },
    {
      "cell_type": "code",
      "source": [
        "# Лемматизация\n",
        "lemmatized_text = process_text(text, lemmatize=True)\n",
        "print(\"Лемматизация:\", lemmatized_text)\n"
      ],
      "metadata": {
        "colab": {
          "base_uri": "https://localhost:8080/"
        },
        "id": "kvH45NdcbA1S",
        "outputId": "cfdfe68c-0eff-4935-b0e8-46657a1e6c20"
      },
      "execution_count": 29,
      "outputs": [
        {
          "output_type": "stream",
          "name": "stdout",
          "text": [
            "Лемматизация: ['гулять', 'потом', 'пить', 'пиво', 'на', 'пара']\n"
          ]
        }
      ]
    },
    {
      "cell_type": "code",
      "source": [
        "# Стемминг\n",
        "stemmed_text = process_text(text, lemmatize=False, stem_length=4)\n",
        "print(\"Стемминг:\", stemmed_text)"
      ],
      "metadata": {
        "colab": {
          "base_uri": "https://localhost:8080/"
        },
        "id": "3bkPN_SUbDaJ",
        "outputId": "9d86087f-7db3-49ae-bab8-0278a75553ce"
      },
      "execution_count": 30,
      "outputs": [
        {
          "output_type": "stream",
          "name": "stdout",
          "text": [
            "Стемминг: ['гуля', 'пото', 'пить', 'пиво', 'на', 'пара']\n"
          ]
        }
      ]
    },
    {
      "cell_type": "code",
      "source": [
        "# Токенизация ASCII\n",
        "ascii_tokens = tokenize_ascii(text)\n",
        "print(\"ASCII токены:\", ascii_tokens)"
      ],
      "metadata": {
        "colab": {
          "base_uri": "https://localhost:8080/"
        },
        "id": "4QkwrowZbJ2C",
        "outputId": "f7441fb8-ec74-449f-8c0b-6721a8e31c29"
      },
      "execution_count": 18,
      "outputs": [
        {
          "output_type": "stream",
          "name": "stdout",
          "text": [
            "ASCII токены: ['о', 'о', 'у', 'у', ' ', 'е', 'е', ' ', 'г', 'у', 'л', 'я', 'т', 'ь', ' ', 'п', 'о', 'т', 'о', 'м', ' ', 'п', 'и', 'т', 'ь', ' ', 'п', 'и', 'в', 'о']\n"
          ]
        }
      ]
    },
    {
      "cell_type": "code",
      "source": [
        "# Векторизация ASCII\n",
        "ascii_vectors = vectorize_ascii(text)\n",
        "print(\"Векторизация ASCII:\", ascii_vectors)"
      ],
      "metadata": {
        "colab": {
          "base_uri": "https://localhost:8080/"
        },
        "id": "Vt9nHztubQgJ",
        "outputId": "c492728b-d60a-4567-ddbf-9375f481ee58"
      },
      "execution_count": null,
      "outputs": [
        {
          "output_type": "stream",
          "name": "stdout",
          "text": [
            "Векторизация ASCII: [1052, 1072, 1084, 1072, 32, 1084, 1099, 1083, 1072, 32, 1088, 1072, 1084, 1091, 44, 32, 1072, 32, 1087, 1086, 1090, 1086, 1084, 32, 1087, 1086, 1096, 1083, 1072, 32, 1075, 1091, 1083, 1103, 1090, 1100, 46]\n"
          ]
        }
      ]
    },
    {
      "cell_type": "code",
      "source": [
        "# Токенизация и векторизация после лемматизации\n",
        "processed_text_lemmatized = ' '.join(lemmatized_text)\n",
        "tokens_lemmatized = tokenize_ascii(processed_text_lemmatized)\n",
        "vectors_lemmatized = vectorize_ascii(processed_text_lemmatized)\n",
        "print(\"Токенизация после лемматизации:\", tokens_lemmatized)\n",
        "print(\"Векторизация после лемматизации:\", vectors_lemmatized)"
      ],
      "metadata": {
        "colab": {
          "base_uri": "https://localhost:8080/"
        },
        "id": "5NdHhAKobUuB",
        "outputId": "7c42c53c-1738-48af-da5e-32a50e4385c0"
      },
      "execution_count": 32,
      "outputs": [
        {
          "output_type": "stream",
          "name": "stdout",
          "text": [
            "Токенизация после лемматизации: ['г', 'у', 'л', 'я', 'т', 'ь', ' ', 'п', 'о', 'т', 'о', 'м', ' ', 'п', 'и', 'т', 'ь', ' ', 'п', 'и', 'в', 'о', ' ', 'н', 'а', ' ', 'п', 'а', 'р', 'а']\n",
            "Векторизация после лемматизации: [1075, 1091, 1083, 1103, 1090, 1100, 32, 1087, 1086, 1090, 1086, 1084, 32, 1087, 1080, 1090, 1100, 32, 1087, 1080, 1074, 1086, 32, 1085, 1072, 32, 1087, 1072, 1088, 1072]\n"
          ]
        }
      ]
    },
    {
      "cell_type": "code",
      "source": [
        "# Токенизация и векторизация после стемминга\n",
        "processed_text_stemmed = ' '.join(stemmed_text)\n",
        "tokens_stemmed = tokenize_ascii(processed_text_stemmed)\n",
        "vectors_stemmed = vectorize_ascii(processed_text_stemmed)\n",
        "print(\"Токенизация после стемминга:\", tokens_stemmed)\n",
        "print(\"Векторизация после стемминга:\", vectors_stemmed)"
      ],
      "metadata": {
        "colab": {
          "base_uri": "https://localhost:8080/"
        },
        "id": "coB23oJ1bV4Z",
        "outputId": "64534064-2a79-419a-ea1a-e8bd8d99137f"
      },
      "execution_count": 31,
      "outputs": [
        {
          "output_type": "stream",
          "name": "stdout",
          "text": [
            "Токенизация после стемминга: ['г', 'у', 'л', 'я', ' ', 'п', 'о', 'т', 'о', ' ', 'п', 'и', 'т', 'ь', ' ', 'п', 'и', 'в', 'о', ' ', 'н', 'а', ' ', 'п', 'а', 'р', 'а']\n",
            "Векторизация после стемминга: [1075, 1091, 1083, 1103, 32, 1087, 1086, 1090, 1086, 32, 1087, 1080, 1090, 1100, 32, 1087, 1080, 1074, 1086, 32, 1085, 1072, 32, 1087, 1072, 1088, 1072]\n"
          ]
        }
      ]
    }
  ]
}