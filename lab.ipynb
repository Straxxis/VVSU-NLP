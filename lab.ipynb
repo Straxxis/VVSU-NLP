{
  "nbformat": 4,
  "nbformat_minor": 0,
  "metadata": {
    "colab": {
      "provenance": []
    },
    "kernelspec": {
      "name": "python3",
      "display_name": "Python 3"
    },
    "language_info": {
      "name": "python"
    }
  },
  "cells": [
    {
      "cell_type": "code",
      "execution_count": 4,
      "metadata": {
        "id": "VASDEsF-EArb",
        "colab": {
          "base_uri": "https://localhost:8080/"
        },
        "outputId": "da4bc208-67aa-442e-e2fc-8b8ffb781313"
      },
      "outputs": [
        {
          "output_type": "stream",
          "name": "stdout",
          "text": [
            "Collecting natasha\n",
            "  Downloading natasha-1.6.0-py3-none-any.whl.metadata (23 kB)\n",
            "Collecting pymorphy2 (from natasha)\n",
            "  Downloading pymorphy2-0.9.1-py3-none-any.whl.metadata (3.6 kB)\n",
            "Collecting razdel>=0.5.0 (from natasha)\n",
            "  Downloading razdel-0.5.0-py3-none-any.whl.metadata (10.0 kB)\n",
            "Collecting navec>=0.9.0 (from natasha)\n",
            "  Downloading navec-0.10.0-py3-none-any.whl.metadata (21 kB)\n",
            "Collecting slovnet>=0.6.0 (from natasha)\n",
            "  Downloading slovnet-0.6.0-py3-none-any.whl.metadata (34 kB)\n",
            "Collecting yargy>=0.16.0 (from natasha)\n",
            "  Downloading yargy-0.16.0-py3-none-any.whl.metadata (3.5 kB)\n",
            "Collecting ipymarkup>=0.8.0 (from natasha)\n",
            "  Downloading ipymarkup-0.9.0-py3-none-any.whl.metadata (5.6 kB)\n",
            "Collecting intervaltree>=3 (from ipymarkup>=0.8.0->natasha)\n",
            "  Downloading intervaltree-3.1.0.tar.gz (32 kB)\n",
            "  Preparing metadata (setup.py) ... \u001b[?25l\u001b[?25hdone\n",
            "Requirement already satisfied: numpy in /usr/local/lib/python3.11/dist-packages (from navec>=0.9.0->natasha) (1.26.4)\n",
            "Collecting dawg-python>=0.7.1 (from pymorphy2->natasha)\n",
            "  Downloading DAWG_Python-0.7.2-py2.py3-none-any.whl.metadata (7.0 kB)\n",
            "Collecting pymorphy2-dicts-ru<3.0,>=2.4 (from pymorphy2->natasha)\n",
            "  Downloading pymorphy2_dicts_ru-2.4.417127.4579844-py2.py3-none-any.whl.metadata (2.1 kB)\n",
            "Collecting docopt>=0.6 (from pymorphy2->natasha)\n",
            "  Downloading docopt-0.6.2.tar.gz (25 kB)\n",
            "  Preparing metadata (setup.py) ... \u001b[?25l\u001b[?25hdone\n",
            "Requirement already satisfied: sortedcontainers<3.0,>=2.0 in /usr/local/lib/python3.11/dist-packages (from intervaltree>=3->ipymarkup>=0.8.0->natasha) (2.4.0)\n",
            "Downloading natasha-1.6.0-py3-none-any.whl (34.4 MB)\n",
            "\u001b[2K   \u001b[90m━━━━━━━━━━━━━━━━━━━━━━━━━━━━━━━━━━━━━━━━\u001b[0m \u001b[32m34.4/34.4 MB\u001b[0m \u001b[31m45.7 MB/s\u001b[0m eta \u001b[36m0:00:00\u001b[0m\n",
            "\u001b[?25hDownloading ipymarkup-0.9.0-py3-none-any.whl (14 kB)\n",
            "Downloading navec-0.10.0-py3-none-any.whl (23 kB)\n",
            "Downloading razdel-0.5.0-py3-none-any.whl (21 kB)\n",
            "Downloading slovnet-0.6.0-py3-none-any.whl (46 kB)\n",
            "\u001b[2K   \u001b[90m━━━━━━━━━━━━━━━━━━━━━━━━━━━━━━━━━━━━━━━━\u001b[0m \u001b[32m46.7/46.7 kB\u001b[0m \u001b[31m2.4 MB/s\u001b[0m eta \u001b[36m0:00:00\u001b[0m\n",
            "\u001b[?25hDownloading yargy-0.16.0-py3-none-any.whl (33 kB)\n",
            "Downloading pymorphy2-0.9.1-py3-none-any.whl (55 kB)\n",
            "\u001b[2K   \u001b[90m━━━━━━━━━━━━━━━━━━━━━━━━━━━━━━━━━━━━━━━━\u001b[0m \u001b[32m55.5/55.5 kB\u001b[0m \u001b[31m3.1 MB/s\u001b[0m eta \u001b[36m0:00:00\u001b[0m\n",
            "\u001b[?25hDownloading DAWG_Python-0.7.2-py2.py3-none-any.whl (11 kB)\n",
            "Downloading pymorphy2_dicts_ru-2.4.417127.4579844-py2.py3-none-any.whl (8.2 MB)\n",
            "\u001b[2K   \u001b[90m━━━━━━━━━━━━━━━━━━━━━━━━━━━━━━━━━━━━━━━━\u001b[0m \u001b[32m8.2/8.2 MB\u001b[0m \u001b[31m83.0 MB/s\u001b[0m eta \u001b[36m0:00:00\u001b[0m\n",
            "\u001b[?25hBuilding wheels for collected packages: docopt, intervaltree\n",
            "  Building wheel for docopt (setup.py) ... \u001b[?25l\u001b[?25hdone\n",
            "  Created wheel for docopt: filename=docopt-0.6.2-py2.py3-none-any.whl size=13706 sha256=02e20a004060f4b1886ad258f0c36e5dd65c41c685365b851bb5684726990098\n",
            "  Stored in directory: /root/.cache/pip/wheels/1a/b0/8c/4b75c4116c31f83c8f9f047231251e13cc74481cca4a78a9ce\n",
            "  Building wheel for intervaltree (setup.py) ... \u001b[?25l\u001b[?25hdone\n",
            "  Created wheel for intervaltree: filename=intervaltree-3.1.0-py2.py3-none-any.whl size=26097 sha256=043b50ba82559c69e22246e79e89e1a5da45f00682b13e050a01bb73b296e760\n",
            "  Stored in directory: /root/.cache/pip/wheels/31/d7/d9/eec6891f78cac19a693bd40ecb8365d2f4613318c145ec9816\n",
            "Successfully built docopt intervaltree\n",
            "Installing collected packages: razdel, pymorphy2-dicts-ru, docopt, dawg-python, pymorphy2, navec, intervaltree, yargy, slovnet, ipymarkup, natasha\n",
            "Successfully installed dawg-python-0.7.2 docopt-0.6.2 intervaltree-3.1.0 ipymarkup-0.9.0 natasha-1.6.0 navec-0.10.0 pymorphy2-0.9.1 pymorphy2-dicts-ru-2.4.417127.4579844 razdel-0.5.0 slovnet-0.6.0 yargy-0.16.0\n"
          ]
        }
      ],
      "source": [
        "pip install natasha\n"
      ]
    },
    {
      "cell_type": "code",
      "source": [
        "from natasha import MorphVocab, Doc, Segmenter, NewsEmbedding, NewsMorphTagger"
      ],
      "metadata": {
        "id": "Gp7X2rS-W6cO"
      },
      "execution_count": 5,
      "outputs": []
    },
    {
      "cell_type": "code",
      "source": [
        "segmenter = Segmenter()\n",
        "morph_vocab = MorphVocab()\n",
        "emb = NewsEmbedding()\n",
        "morph_tagger = NewsMorphTagger(emb)\n"
      ],
      "metadata": {
        "id": "sM3h89hwapjh"
      },
      "execution_count": 6,
      "outputs": []
    },
    {
      "cell_type": "code",
      "source": [
        "# Функция для обработки текста (лемматизация и стемминг)\n",
        "def process_text(text, lemmatize=True, stem_length=4):\n",
        "    doc = Doc(text)\n",
        "    doc.segment(segmenter)  # Сегментация текста на токены\n",
        "    doc.tag_morph(morph_tagger)  # Морфологический разбор\n",
        "\n",
        "    processed_text = []\n",
        "    for token in doc.tokens:\n",
        "        token.lemmatize(morph_vocab)\n",
        "        if lemmatize:\n",
        "            processed_text.append(token.lemma if token.lemma else token.text)\n",
        "        else:\n",
        "            processed_text.append(token.lemma[:stem_length] if token.lemma else token.text)\n",
        "    return processed_text"
      ],
      "metadata": {
        "id": "BLBw_Xunau_R"
      },
      "execution_count": 7,
      "outputs": []
    },
    {
      "cell_type": "code",
      "source": [
        "# Функция для токенизации всех символов из ASCII\n",
        "def tokenize_ascii(text):\n",
        "    return list(text)\n"
      ],
      "metadata": {
        "id": "mzTGbtSfaz7Z"
      },
      "execution_count": 8,
      "outputs": []
    },
    {
      "cell_type": "code",
      "source": [
        "# Функция для векторизации всех символов из ASCII\n",
        "def vectorize_ascii(text):\n",
        "    return [ord(char) for char in text]"
      ],
      "metadata": {
        "id": "VzqzRgd7a7Vh"
      },
      "execution_count": 9,
      "outputs": []
    },
    {
      "cell_type": "code",
      "source": [
        "# Пример текста\n",
        "text = \"ооуу ее гулять потом пить пиво\""
      ],
      "metadata": {
        "id": "Huvn0aSOa9rh"
      },
      "execution_count": 14,
      "outputs": []
    },
    {
      "cell_type": "code",
      "source": [
        "# Лемматизация\n",
        "lemmatized_text = process_text(text, lemmatize=True)\n",
        "print(\"Лемматизация:\", lemmatized_text)\n"
      ],
      "metadata": {
        "colab": {
          "base_uri": "https://localhost:8080/"
        },
        "id": "kvH45NdcbA1S",
        "outputId": "128af084-76fd-4846-e060-ce372d17c6e3"
      },
      "execution_count": 15,
      "outputs": [
        {
          "output_type": "stream",
          "name": "stdout",
          "text": [
            "Лемматизация: ['ооуа', 'она', 'гулять', 'потом', 'пить', 'пиво']\n"
          ]
        }
      ]
    },
    {
      "cell_type": "code",
      "source": [
        "# Стемминг\n",
        "stemmed_text = process_text(text, lemmatize=False, stem_length=4)\n",
        "print(\"Стемминг:\", stemmed_text)"
      ],
      "metadata": {
        "colab": {
          "base_uri": "https://localhost:8080/"
        },
        "id": "3bkPN_SUbDaJ",
        "outputId": "a87407da-8c11-4345-fa6b-4a84eb3cd60e"
      },
      "execution_count": 19,
      "outputs": [
        {
          "output_type": "stream",
          "name": "stdout",
          "text": [
            "Стемминг: ['ооуа', 'она', 'гуля', 'пото', 'пить', 'пиво']\n"
          ]
        }
      ]
    },
    {
      "cell_type": "code",
      "source": [
        "# Токенизация ASCII\n",
        "ascii_tokens = tokenize_ascii(text)\n",
        "print(\"ASCII токены:\", ascii_tokens)"
      ],
      "metadata": {
        "colab": {
          "base_uri": "https://localhost:8080/"
        },
        "id": "4QkwrowZbJ2C",
        "outputId": "f7441fb8-ec74-449f-8c0b-6721a8e31c29"
      },
      "execution_count": 18,
      "outputs": [
        {
          "output_type": "stream",
          "name": "stdout",
          "text": [
            "ASCII токены: ['о', 'о', 'у', 'у', ' ', 'е', 'е', ' ', 'г', 'у', 'л', 'я', 'т', 'ь', ' ', 'п', 'о', 'т', 'о', 'м', ' ', 'п', 'и', 'т', 'ь', ' ', 'п', 'и', 'в', 'о']\n"
          ]
        }
      ]
    },
    {
      "cell_type": "code",
      "source": [
        "# Векторизация ASCII\n",
        "ascii_vectors = vectorize_ascii(text)\n",
        "print(\"Векторизация ASCII:\", ascii_vectors)"
      ],
      "metadata": {
        "colab": {
          "base_uri": "https://localhost:8080/"
        },
        "id": "Vt9nHztubQgJ",
        "outputId": "c492728b-d60a-4567-ddbf-9375f481ee58"
      },
      "execution_count": null,
      "outputs": [
        {
          "output_type": "stream",
          "name": "stdout",
          "text": [
            "Векторизация ASCII: [1052, 1072, 1084, 1072, 32, 1084, 1099, 1083, 1072, 32, 1088, 1072, 1084, 1091, 44, 32, 1072, 32, 1087, 1086, 1090, 1086, 1084, 32, 1087, 1086, 1096, 1083, 1072, 32, 1075, 1091, 1083, 1103, 1090, 1100, 46]\n"
          ]
        }
      ]
    },
    {
      "cell_type": "code",
      "source": [
        "# Токенизация и векторизация после лемматизации\n",
        "processed_text_lemmatized = ' '.join(lemmatized_text)\n",
        "tokens_lemmatized = tokenize_ascii(processed_text_lemmatized)\n",
        "vectors_lemmatized = vectorize_ascii(processed_text_lemmatized)\n",
        "print(\"Токенизация после лемматизации:\", tokens_lemmatized)\n",
        "print(\"Векторизация после лемматизации:\", vectors_lemmatized)"
      ],
      "metadata": {
        "colab": {
          "base_uri": "https://localhost:8080/"
        },
        "id": "5NdHhAKobUuB",
        "outputId": "eb8ae953-bbfa-45db-bd06-5341da1a9bea"
      },
      "execution_count": 20,
      "outputs": [
        {
          "output_type": "stream",
          "name": "stdout",
          "text": [
            "Токенизация после лемматизации: ['о', 'о', 'у', 'а', ' ', 'о', 'н', 'а', ' ', 'г', 'у', 'л', 'я', 'т', 'ь', ' ', 'п', 'о', 'т', 'о', 'м', ' ', 'п', 'и', 'т', 'ь', ' ', 'п', 'и', 'в', 'о']\n",
            "Векторизация после лемматизации: [1086, 1086, 1091, 1072, 32, 1086, 1085, 1072, 32, 1075, 1091, 1083, 1103, 1090, 1100, 32, 1087, 1086, 1090, 1086, 1084, 32, 1087, 1080, 1090, 1100, 32, 1087, 1080, 1074, 1086]\n"
          ]
        }
      ]
    },
    {
      "cell_type": "code",
      "source": [
        "# Токенизация и векторизация после стемминга\n",
        "processed_text_stemmed = ' '.join(stemmed_text)\n",
        "tokens_stemmed = tokenize_ascii(processed_text_stemmed)\n",
        "vectors_stemmed = vectorize_ascii(processed_text_stemmed)\n",
        "print(\"Токенизация после стемминга:\", tokens_stemmed)\n",
        "print(\"Векторизация после стемминга:\", vectors_stemmed)"
      ],
      "metadata": {
        "colab": {
          "base_uri": "https://localhost:8080/"
        },
        "id": "coB23oJ1bV4Z",
        "outputId": "29706ce2-1573-4939-883e-dfd1c67987fb"
      },
      "execution_count": 21,
      "outputs": [
        {
          "output_type": "stream",
          "name": "stdout",
          "text": [
            "Токенизация после стемминга: ['о', 'о', 'у', 'а', ' ', 'о', 'н', 'а', ' ', 'г', 'у', 'л', 'я', ' ', 'п', 'о', 'т', 'о', ' ', 'п', 'и', 'т', 'ь', ' ', 'п', 'и', 'в', 'о']\n",
            "Векторизация после стемминга: [1086, 1086, 1091, 1072, 32, 1086, 1085, 1072, 32, 1075, 1091, 1083, 1103, 32, 1087, 1086, 1090, 1086, 32, 1087, 1080, 1090, 1100, 32, 1087, 1080, 1074, 1086]\n"
          ]
        }
      ]
    }
  ]
}